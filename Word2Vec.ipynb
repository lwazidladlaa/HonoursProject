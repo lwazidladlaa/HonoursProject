{
  "nbformat": 4,
  "nbformat_minor": 0,
  "metadata": {
    "colab": {
      "provenance": []
    },
    "kernelspec": {
      "name": "python3",
      "display_name": "Python 3"
    },
    "language_info": {
      "name": "python"
    }
  },
  "cells": [
    {
      "cell_type": "markdown",
      "source": [
        "## **isiZulu Text Classification Using Word2Vec PreTrained Model**"
      ],
      "metadata": {
        "id": "60rQJOPSc-Ze"
      }
    },
    {
      "cell_type": "markdown",
      "source": [
        "# **Data preprocessing**"
      ],
      "metadata": {
        "id": "qufpfMHH5L5B"
      }
    },
    {
      "cell_type": "code",
      "execution_count": null,
      "metadata": {
        "colab": {
          "base_uri": "https://localhost:8080/",
          "height": 521
        },
        "id": "W8_trMwxUqI-",
        "outputId": "2d4051b8-2938-48e7-d521-62131d4d9dd9"
      },
      "outputs": [
        {
          "output_type": "stream",
          "name": "stdout",
          "text": [
            "Collecting fastText\n",
            "  Downloading fasttext-0.9.2.tar.gz (68 kB)\n",
            "\u001b[?25l     \u001b[90m━━━━━━━━━━━━━━━━━━━━━━━━━━━━━━━━━━━━━━━━\u001b[0m \u001b[32m0.0/68.8 kB\u001b[0m \u001b[31m?\u001b[0m eta \u001b[36m-:--:--\u001b[0m\r\u001b[2K     \u001b[90m━━━━━━━━━━━━━━━━━━━━━━━━━━━━━━━━━━━━━━━━\u001b[0m \u001b[32m68.8/68.8 kB\u001b[0m \u001b[31m2.4 MB/s\u001b[0m eta \u001b[36m0:00:00\u001b[0m\n",
            "\u001b[?25h  Preparing metadata (setup.py) ... \u001b[?25l\u001b[?25hdone\n",
            "Collecting pybind11>=2.2 (from fastText)\n",
            "  Using cached pybind11-2.11.1-py3-none-any.whl (227 kB)\n",
            "Requirement already satisfied: setuptools>=0.7.0 in /usr/local/lib/python3.10/dist-packages (from fastText) (67.7.2)\n",
            "Requirement already satisfied: numpy in /usr/local/lib/python3.10/dist-packages (from fastText) (1.23.5)\n",
            "Building wheels for collected packages: fastText\n",
            "  Building wheel for fastText (setup.py) ... \u001b[?25l\u001b[?25hdone\n",
            "  Created wheel for fastText: filename=fasttext-0.9.2-cp310-cp310-linux_x86_64.whl size=4199770 sha256=7b83decd042e3f0b57bb35fc19bf242b205104a9ee4446210906c45ed914f467\n",
            "  Stored in directory: /root/.cache/pip/wheels/a5/13/75/f811c84a8ab36eedbaef977a6a58a98990e8e0f1967f98f394\n",
            "Successfully built fastText\n",
            "Installing collected packages: pybind11, fastText\n",
            "Successfully installed fastText-0.9.2 pybind11-2.11.1\n",
            "Mounted at /content/drive\n",
            "(3313, 2)\n"
          ]
        },
        {
          "output_type": "execute_result",
          "data": {
            "text/plain": [
              "                                                text   label\n",
              "0   Ulwazi ngoHulumeni www.gov.za Izinkonzo Kuban...  NF-OBJ\n",
              "1   Ulwazi ngoHulumeni www.gov.za Izinkonzo Kuban...  NF-OBJ\n",
              "2   Izinkonzo Kubantu Izinkonzo ezinhlanganweni I...  NF-OBJ\n",
              "3   Ulwazi ngoHulumeni www.gov.za Izinkonzo Kuban...  NF-OBJ\n",
              "4   Ulwazi ngoHulumeni www.gov.za Izinkonzo Kuban...  NF-OBJ"
            ],
            "text/html": [
              "\n",
              "  <div id=\"df-4bf7fb7b-83ca-4274-a3db-66d16f8f9613\" class=\"colab-df-container\">\n",
              "    <div>\n",
              "<style scoped>\n",
              "    .dataframe tbody tr th:only-of-type {\n",
              "        vertical-align: middle;\n",
              "    }\n",
              "\n",
              "    .dataframe tbody tr th {\n",
              "        vertical-align: top;\n",
              "    }\n",
              "\n",
              "    .dataframe thead th {\n",
              "        text-align: right;\n",
              "    }\n",
              "</style>\n",
              "<table border=\"1\" class=\"dataframe\">\n",
              "  <thead>\n",
              "    <tr style=\"text-align: right;\">\n",
              "      <th></th>\n",
              "      <th>text</th>\n",
              "      <th>label</th>\n",
              "    </tr>\n",
              "  </thead>\n",
              "  <tbody>\n",
              "    <tr>\n",
              "      <th>0</th>\n",
              "      <td>Ulwazi ngoHulumeni www.gov.za Izinkonzo Kuban...</td>\n",
              "      <td>NF-OBJ</td>\n",
              "    </tr>\n",
              "    <tr>\n",
              "      <th>1</th>\n",
              "      <td>Ulwazi ngoHulumeni www.gov.za Izinkonzo Kuban...</td>\n",
              "      <td>NF-OBJ</td>\n",
              "    </tr>\n",
              "    <tr>\n",
              "      <th>2</th>\n",
              "      <td>Izinkonzo Kubantu Izinkonzo ezinhlanganweni I...</td>\n",
              "      <td>NF-OBJ</td>\n",
              "    </tr>\n",
              "    <tr>\n",
              "      <th>3</th>\n",
              "      <td>Ulwazi ngoHulumeni www.gov.za Izinkonzo Kuban...</td>\n",
              "      <td>NF-OBJ</td>\n",
              "    </tr>\n",
              "    <tr>\n",
              "      <th>4</th>\n",
              "      <td>Ulwazi ngoHulumeni www.gov.za Izinkonzo Kuban...</td>\n",
              "      <td>NF-OBJ</td>\n",
              "    </tr>\n",
              "  </tbody>\n",
              "</table>\n",
              "</div>\n",
              "    <div class=\"colab-df-buttons\">\n",
              "\n",
              "  <div class=\"colab-df-container\">\n",
              "    <button class=\"colab-df-convert\" onclick=\"convertToInteractive('df-4bf7fb7b-83ca-4274-a3db-66d16f8f9613')\"\n",
              "            title=\"Convert this dataframe to an interactive table.\"\n",
              "            style=\"display:none;\">\n",
              "\n",
              "  <svg xmlns=\"http://www.w3.org/2000/svg\" height=\"24px\" viewBox=\"0 -960 960 960\">\n",
              "    <path d=\"M120-120v-720h720v720H120Zm60-500h600v-160H180v160Zm220 220h160v-160H400v160Zm0 220h160v-160H400v160ZM180-400h160v-160H180v160Zm440 0h160v-160H620v160ZM180-180h160v-160H180v160Zm440 0h160v-160H620v160Z\"/>\n",
              "  </svg>\n",
              "    </button>\n",
              "\n",
              "  <style>\n",
              "    .colab-df-container {\n",
              "      display:flex;\n",
              "      gap: 12px;\n",
              "    }\n",
              "\n",
              "    .colab-df-convert {\n",
              "      background-color: #E8F0FE;\n",
              "      border: none;\n",
              "      border-radius: 50%;\n",
              "      cursor: pointer;\n",
              "      display: none;\n",
              "      fill: #1967D2;\n",
              "      height: 32px;\n",
              "      padding: 0 0 0 0;\n",
              "      width: 32px;\n",
              "    }\n",
              "\n",
              "    .colab-df-convert:hover {\n",
              "      background-color: #E2EBFA;\n",
              "      box-shadow: 0px 1px 2px rgba(60, 64, 67, 0.3), 0px 1px 3px 1px rgba(60, 64, 67, 0.15);\n",
              "      fill: #174EA6;\n",
              "    }\n",
              "\n",
              "    .colab-df-buttons div {\n",
              "      margin-bottom: 4px;\n",
              "    }\n",
              "\n",
              "    [theme=dark] .colab-df-convert {\n",
              "      background-color: #3B4455;\n",
              "      fill: #D2E3FC;\n",
              "    }\n",
              "\n",
              "    [theme=dark] .colab-df-convert:hover {\n",
              "      background-color: #434B5C;\n",
              "      box-shadow: 0px 1px 3px 1px rgba(0, 0, 0, 0.15);\n",
              "      filter: drop-shadow(0px 1px 2px rgba(0, 0, 0, 0.3));\n",
              "      fill: #FFFFFF;\n",
              "    }\n",
              "  </style>\n",
              "\n",
              "    <script>\n",
              "      const buttonEl =\n",
              "        document.querySelector('#df-4bf7fb7b-83ca-4274-a3db-66d16f8f9613 button.colab-df-convert');\n",
              "      buttonEl.style.display =\n",
              "        google.colab.kernel.accessAllowed ? 'block' : 'none';\n",
              "\n",
              "      async function convertToInteractive(key) {\n",
              "        const element = document.querySelector('#df-4bf7fb7b-83ca-4274-a3db-66d16f8f9613');\n",
              "        const dataTable =\n",
              "          await google.colab.kernel.invokeFunction('convertToInteractive',\n",
              "                                                    [key], {});\n",
              "        if (!dataTable) return;\n",
              "\n",
              "        const docLinkHtml = 'Like what you see? Visit the ' +\n",
              "          '<a target=\"_blank\" href=https://colab.research.google.com/notebooks/data_table.ipynb>data table notebook</a>'\n",
              "          + ' to learn more about interactive tables.';\n",
              "        element.innerHTML = '';\n",
              "        dataTable['output_type'] = 'display_data';\n",
              "        await google.colab.output.renderOutput(dataTable, element);\n",
              "        const docLink = document.createElement('div');\n",
              "        docLink.innerHTML = docLinkHtml;\n",
              "        element.appendChild(docLink);\n",
              "      }\n",
              "    </script>\n",
              "  </div>\n",
              "\n",
              "\n",
              "<div id=\"df-4d75b74b-24ed-460a-9429-17c0eaea6f01\">\n",
              "  <button class=\"colab-df-quickchart\" onclick=\"quickchart('df-4d75b74b-24ed-460a-9429-17c0eaea6f01')\"\n",
              "            title=\"Suggest charts.\"\n",
              "            style=\"display:none;\">\n",
              "\n",
              "<svg xmlns=\"http://www.w3.org/2000/svg\" height=\"24px\"viewBox=\"0 0 24 24\"\n",
              "     width=\"24px\">\n",
              "    <g>\n",
              "        <path d=\"M19 3H5c-1.1 0-2 .9-2 2v14c0 1.1.9 2 2 2h14c1.1 0 2-.9 2-2V5c0-1.1-.9-2-2-2zM9 17H7v-7h2v7zm4 0h-2V7h2v10zm4 0h-2v-4h2v4z\"/>\n",
              "    </g>\n",
              "</svg>\n",
              "  </button>\n",
              "\n",
              "<style>\n",
              "  .colab-df-quickchart {\n",
              "      --bg-color: #E8F0FE;\n",
              "      --fill-color: #1967D2;\n",
              "      --hover-bg-color: #E2EBFA;\n",
              "      --hover-fill-color: #174EA6;\n",
              "      --disabled-fill-color: #AAA;\n",
              "      --disabled-bg-color: #DDD;\n",
              "  }\n",
              "\n",
              "  [theme=dark] .colab-df-quickchart {\n",
              "      --bg-color: #3B4455;\n",
              "      --fill-color: #D2E3FC;\n",
              "      --hover-bg-color: #434B5C;\n",
              "      --hover-fill-color: #FFFFFF;\n",
              "      --disabled-bg-color: #3B4455;\n",
              "      --disabled-fill-color: #666;\n",
              "  }\n",
              "\n",
              "  .colab-df-quickchart {\n",
              "    background-color: var(--bg-color);\n",
              "    border: none;\n",
              "    border-radius: 50%;\n",
              "    cursor: pointer;\n",
              "    display: none;\n",
              "    fill: var(--fill-color);\n",
              "    height: 32px;\n",
              "    padding: 0;\n",
              "    width: 32px;\n",
              "  }\n",
              "\n",
              "  .colab-df-quickchart:hover {\n",
              "    background-color: var(--hover-bg-color);\n",
              "    box-shadow: 0 1px 2px rgba(60, 64, 67, 0.3), 0 1px 3px 1px rgba(60, 64, 67, 0.15);\n",
              "    fill: var(--button-hover-fill-color);\n",
              "  }\n",
              "\n",
              "  .colab-df-quickchart-complete:disabled,\n",
              "  .colab-df-quickchart-complete:disabled:hover {\n",
              "    background-color: var(--disabled-bg-color);\n",
              "    fill: var(--disabled-fill-color);\n",
              "    box-shadow: none;\n",
              "  }\n",
              "\n",
              "  .colab-df-spinner {\n",
              "    border: 2px solid var(--fill-color);\n",
              "    border-color: transparent;\n",
              "    border-bottom-color: var(--fill-color);\n",
              "    animation:\n",
              "      spin 1s steps(1) infinite;\n",
              "  }\n",
              "\n",
              "  @keyframes spin {\n",
              "    0% {\n",
              "      border-color: transparent;\n",
              "      border-bottom-color: var(--fill-color);\n",
              "      border-left-color: var(--fill-color);\n",
              "    }\n",
              "    20% {\n",
              "      border-color: transparent;\n",
              "      border-left-color: var(--fill-color);\n",
              "      border-top-color: var(--fill-color);\n",
              "    }\n",
              "    30% {\n",
              "      border-color: transparent;\n",
              "      border-left-color: var(--fill-color);\n",
              "      border-top-color: var(--fill-color);\n",
              "      border-right-color: var(--fill-color);\n",
              "    }\n",
              "    40% {\n",
              "      border-color: transparent;\n",
              "      border-right-color: var(--fill-color);\n",
              "      border-top-color: var(--fill-color);\n",
              "    }\n",
              "    60% {\n",
              "      border-color: transparent;\n",
              "      border-right-color: var(--fill-color);\n",
              "    }\n",
              "    80% {\n",
              "      border-color: transparent;\n",
              "      border-right-color: var(--fill-color);\n",
              "      border-bottom-color: var(--fill-color);\n",
              "    }\n",
              "    90% {\n",
              "      border-color: transparent;\n",
              "      border-bottom-color: var(--fill-color);\n",
              "    }\n",
              "  }\n",
              "</style>\n",
              "\n",
              "  <script>\n",
              "    async function quickchart(key) {\n",
              "      const quickchartButtonEl =\n",
              "        document.querySelector('#' + key + ' button');\n",
              "      quickchartButtonEl.disabled = true;  // To prevent multiple clicks.\n",
              "      quickchartButtonEl.classList.add('colab-df-spinner');\n",
              "      try {\n",
              "        const charts = await google.colab.kernel.invokeFunction(\n",
              "            'suggestCharts', [key], {});\n",
              "      } catch (error) {\n",
              "        console.error('Error during call to suggestCharts:', error);\n",
              "      }\n",
              "      quickchartButtonEl.classList.remove('colab-df-spinner');\n",
              "      quickchartButtonEl.classList.add('colab-df-quickchart-complete');\n",
              "    }\n",
              "    (() => {\n",
              "      let quickchartButtonEl =\n",
              "        document.querySelector('#df-4d75b74b-24ed-460a-9429-17c0eaea6f01 button');\n",
              "      quickchartButtonEl.style.display =\n",
              "        google.colab.kernel.accessAllowed ? 'block' : 'none';\n",
              "    })();\n",
              "  </script>\n",
              "</div>\n",
              "    </div>\n",
              "  </div>\n"
            ]
          },
          "metadata": {},
          "execution_count": 3
        }
      ],
      "source": [
        "!pip install fastText\n",
        "import fasttext\n",
        "import numpy as np\n",
        "import re\n",
        "import string\n",
        "\n",
        "from google.colab import drive\n",
        "drive.mount('/content/drive')\n",
        "\n",
        "\n",
        "#file_path = '/content/drive/MyDrive/zu/wiki.zu/wiki.zu.vec/'\n",
        "\n",
        "\n",
        "import numpy as np # linear algebra\n",
        "import re, os\n",
        "import pandas as pd # data processing, CSV file I/O (e.g. pd.read_csv)\n",
        "from sklearn.preprocessing import LabelEncoder\n",
        "from nltk.corpus import stopwords\n",
        "from sklearn.model_selection import train_test_split\n",
        "import tensorflow as tf\n",
        "\n",
        "import datetime\n",
        "from datetime import datetime\n",
        "\n",
        "\n",
        "# Get the file details\n",
        "directory = []\n",
        "file = []\n",
        "title = []\n",
        "text = []\n",
        "label = []\n",
        "datapath = '/content/drive/MyDrive/zu/zu/'\n",
        "\n",
        "for dirname, _ , filenames in os.walk(datapath):\n",
        "    #print('Directory: ', dirname)\n",
        "    #print('Subdir: ', dirname.split('/')[-1])\n",
        "    # remove the Readme.txt file\n",
        "    # will not find file in the second iteration so we skip the error\n",
        "    try:\n",
        "        filenames.remove('README.TXT')\n",
        "    except:\n",
        "        pass\n",
        "    for filename in filenames:\n",
        "        directory.append(dirname)\n",
        "        file.append(filename)\n",
        "        label.append(dirname.split('/')[-1])\n",
        "        fullpathfile = os.path.join(dirname,filename)\n",
        "        with open(fullpathfile, 'r', encoding=\"utf8\", errors='ignore') as infile:\n",
        "            intext = ''\n",
        "            firstline = True\n",
        "            for line in infile:\n",
        "                if firstline:\n",
        "                    title.append(line.replace('\\n',''))\n",
        "                    firstline = False\n",
        "                else:\n",
        "                    intext = intext + ' ' + line.replace('\\n','')\n",
        "            text.append(intext)\n",
        "\n",
        "DATA_COLUMN = 'text'\n",
        "LABEL_COLUMN = 'label'\n",
        "\n",
        "fulldf = pd.DataFrame(list(zip(directory, file, title, text, label)),\n",
        "               columns =['directory', 'file', 'title', 'text', 'label'])\n",
        "\n",
        "df = fulldf.filter(['text','label'], axis=1)\n",
        "print(df.shape)\n",
        "df.head()\n"
      ]
    },
    {
      "cell_type": "code",
      "source": [
        "df.dropna(inplace=True)\n",
        "df.shape"
      ],
      "metadata": {
        "colab": {
          "base_uri": "https://localhost:8080/"
        },
        "id": "PykLL-haVSFo",
        "outputId": "dced20a1-fb24-48cb-90e9-6fd3c488f609"
      },
      "execution_count": null,
      "outputs": [
        {
          "output_type": "execute_result",
          "data": {
            "text/plain": [
              "(3313, 2)"
            ]
          },
          "metadata": {},
          "execution_count": 4
        }
      ]
    },
    {
      "cell_type": "markdown",
      "source": [
        " **Import Libraries**"
      ],
      "metadata": {
        "id": "J4zFT7RN5lXa"
      }
    },
    {
      "cell_type": "code",
      "source": [
        "!pip install fastText\n",
        "import pandas as pd\n",
        "from sklearn.feature_extraction.text import CountVectorizer,TfidfVectorizer\n",
        "from sklearn.naive_bayes import MultinomialNB,BernoulliNB,GaussianNB\n",
        "from sklearn.neighbors import KNeighborsClassifier\n",
        "\n",
        "from sklearn.metrics import accuracy_score,classification_report,confusion_matrix\n",
        "from sklearn.model_selection import train_test_split,GridSearchCV,RandomizedSearchCV, StratifiedKFold\n",
        "\n",
        "import pandas\n",
        "from tqdm import tqdm\n",
        "tqdm.pandas()\n",
        "from wordcloud import WordCloud\n",
        "from gensim.models import Word2Vec,doc2vec\n",
        "\n",
        "from sklearn.linear_model import LogisticRegression\n",
        "from sklearn.ensemble import AdaBoostClassifier, RandomForestClassifier\n",
        "from sklearn.svm import SVC\n",
        "\n",
        "import warnings\n",
        "warnings.filterwarnings('ignore')\n",
        "\n",
        "import matplotlib.pyplot as plt\n",
        "import seaborn as sns\n",
        "\n",
        "\n",
        "import fasttext\n",
        "from gensim.models import Word2Vec\n",
        "from gensim.models import fasttext , KeyedVectors\n",
        "from gensim.models.fasttext import load_facebook_vectors\n",
        "from zipfile import ZipFile\n",
        "\n",
        "import tensorflow\n",
        "from tensorflow import keras\n",
        "from keras.models import Sequential\n",
        "from keras.layers import Input, Embedding ,Dense, Dropout, BatchNormalization\n",
        "from keras.layers import SimpleRNN, Bidirectional, LSTM, GRU"
      ],
      "metadata": {
        "colab": {
          "base_uri": "https://localhost:8080/"
        },
        "id": "FeB9flLkVVAW",
        "outputId": "f9801697-6b5f-419d-9da2-6eedf0036305"
      },
      "execution_count": null,
      "outputs": [
        {
          "output_type": "stream",
          "name": "stdout",
          "text": [
            "Requirement already satisfied: fastText in /usr/local/lib/python3.10/dist-packages (0.9.2)\n",
            "Requirement already satisfied: pybind11>=2.2 in /usr/local/lib/python3.10/dist-packages (from fastText) (2.11.1)\n",
            "Requirement already satisfied: setuptools>=0.7.0 in /usr/local/lib/python3.10/dist-packages (from fastText) (67.7.2)\n",
            "Requirement already satisfied: numpy in /usr/local/lib/python3.10/dist-packages (from fastText) (1.23.5)\n"
          ]
        }
      ]
    },
    {
      "cell_type": "markdown",
      "source": [
        "# **Load The Word2Vec Pre-trained Model**"
      ],
      "metadata": {
        "id": "wQ7IqbMx5tLH"
      }
    },
    {
      "cell_type": "code",
      "source": [
        "model = Word2Vec.load('/content/drive/MyDrive/zu/6_embedding_models/word2vec_sg-monolingual-100-3.model')"
      ],
      "metadata": {
        "id": "C86qUvuvVzbA"
      },
      "execution_count": null,
      "outputs": []
    },
    {
      "cell_type": "markdown",
      "source": [
        "**Checking Vector representation of word**"
      ],
      "metadata": {
        "id": "myCOe1cC7CfA"
      }
    },
    {
      "cell_type": "code",
      "source": [
        "model.wv['sawubona']"
      ],
      "metadata": {
        "colab": {
          "base_uri": "https://localhost:8080/"
        },
        "id": "9-C7JCESWQPw",
        "outputId": "871ff9dc-65cf-4fcb-ac32-bda1ccf6d466"
      },
      "execution_count": null,
      "outputs": [
        {
          "output_type": "execute_result",
          "data": {
            "text/plain": [
              "array([ 4.8757717e-01,  2.8016144e-01,  9.8586351e-01, -3.3562213e-02,\n",
              "        7.2358334e-01,  1.4251532e-01,  1.6768795e-01,  3.4410766e-01,\n",
              "       -2.5805426e-01, -3.8059315e-01,  1.7712940e-01, -1.0387619e+00,\n",
              "        2.1531756e-01, -1.1998679e-01,  6.5361959e-01,  7.1949489e-02,\n",
              "       -6.6648312e-02, -5.9255660e-01,  5.9654117e-01, -6.0843092e-01,\n",
              "        1.9307700e-01,  3.1427497e-01,  8.6745828e-01, -7.2950351e-01,\n",
              "        1.0787989e-01,  6.7681849e-01, -2.2943619e-01, -4.5565689e-01,\n",
              "       -6.3263512e-01,  7.4428529e-01,  9.7010070e-01, -6.0295463e-01,\n",
              "       -6.1065692e-02, -3.3405551e-01,  3.4466109e-01,  1.6662666e+00,\n",
              "       -1.1528025e-01,  2.3304261e-01, -6.0495490e-01, -8.0299103e-01,\n",
              "       -8.0174819e-02, -4.4065037e-01,  2.7746728e-01,  3.3809677e-01,\n",
              "        7.0911467e-01,  5.4505628e-01, -5.0219905e-01, -4.8979816e-01,\n",
              "       -7.4875742e-01,  4.5663896e-01,  7.0292073e-01,  1.5534902e-01,\n",
              "       -4.2738920e-01,  1.6041906e-01, -1.2259467e+00, -2.3399478e-02,\n",
              "       -3.5341527e-02, -4.9020356e-01, -4.3518192e-01, -5.5897033e-01,\n",
              "        5.8162695e-01,  7.3421371e-01, -1.7582826e-01,  2.7360904e-01,\n",
              "        4.5940548e-01,  6.6800863e-01, -2.7922183e-01,  2.2448194e-01,\n",
              "       -1.9495715e-01,  1.1168464e+00, -1.6066329e-01,  2.7947614e-01,\n",
              "        1.2790426e+00,  3.3253548e-01,  7.4366844e-01, -1.1883979e-01,\n",
              "       -3.4130879e-02, -1.9405276e-01,  2.3494676e-02,  3.9164132e-01,\n",
              "       -1.3968121e-01,  2.5729221e-01, -4.3098962e-01, -7.7563517e-02,\n",
              "        8.5611999e-01,  5.3819263e-04,  4.8903960e-01,  2.2435899e-01,\n",
              "        4.7406298e-01, -2.2319080e-02,  7.9227887e-02,  3.0661875e-01,\n",
              "        4.1529316e-01,  3.9123300e-01,  1.0140226e+00,  7.7564055e-01,\n",
              "        2.9584423e-01, -8.1191236e-01, -1.5869853e+00, -2.3346668e-01],\n",
              "      dtype=float32)"
            ]
          },
          "metadata": {},
          "execution_count": 7
        }
      ]
    },
    {
      "cell_type": "code",
      "source": [
        "print(\"Vector Size of each words:\",model.vector_size)"
      ],
      "metadata": {
        "colab": {
          "base_uri": "https://localhost:8080/"
        },
        "id": "ArwuvHUeWgiI",
        "outputId": "ba34adb8-2d1a-401c-808b-b54ca47349e8"
      },
      "execution_count": null,
      "outputs": [
        {
          "output_type": "stream",
          "name": "stdout",
          "text": [
            "Vector Size of each words: 100\n"
          ]
        }
      ]
    },
    {
      "cell_type": "code",
      "source": [
        "df.dropna(inplace=True)"
      ],
      "metadata": {
        "id": "DqY7hlgGWlR5"
      },
      "execution_count": null,
      "outputs": []
    },
    {
      "cell_type": "code",
      "source": [
        "df.info()"
      ],
      "metadata": {
        "colab": {
          "base_uri": "https://localhost:8080/"
        },
        "id": "lW9s5SjJWsxJ",
        "outputId": "f27574bb-7b6a-42dd-aee7-dfc9fccaeaf2"
      },
      "execution_count": null,
      "outputs": [
        {
          "output_type": "stream",
          "name": "stdout",
          "text": [
            "<class 'pandas.core.frame.DataFrame'>\n",
            "RangeIndex: 3313 entries, 0 to 3312\n",
            "Data columns (total 2 columns):\n",
            " #   Column  Non-Null Count  Dtype \n",
            "---  ------  --------------  ----- \n",
            " 0   text    3313 non-null   object\n",
            " 1   label   3313 non-null   object\n",
            "dtypes: object(2)\n",
            "memory usage: 51.9+ KB\n"
          ]
        }
      ]
    },
    {
      "cell_type": "markdown",
      "source": [
        "**Class Labels**"
      ],
      "metadata": {
        "id": "zaGiAFOC7TcA"
      }
    },
    {
      "cell_type": "code",
      "source": [
        "df['label'].value_counts()"
      ],
      "metadata": {
        "colab": {
          "base_uri": "https://localhost:8080/"
        },
        "id": "e8woGXXIWwJR",
        "outputId": "6163b95e-4c69-4370-f596-a40c17dfbf3a"
      },
      "execution_count": null,
      "outputs": [
        {
          "output_type": "execute_result",
          "data": {
            "text/plain": [
              "NF-SUB    1422\n",
              "NF-OBJ    1416\n",
              "NF-NEU     475\n",
              "Name: label, dtype: int64"
            ]
          },
          "metadata": {},
          "execution_count": 11
        }
      ]
    },
    {
      "cell_type": "markdown",
      "source": [
        "## **Data Visualization**"
      ],
      "metadata": {
        "id": "djAU7tI_-zqL"
      }
    },
    {
      "cell_type": "code",
      "source": [
        "df['label'].value_counts().plot(kind='bar',color='Red')\n",
        "plt.title(\"Distributions of Class Labels\")\n",
        "plt.xticks(rotation=45)\n",
        "plt.show()"
      ],
      "metadata": {
        "colab": {
          "base_uri": "https://localhost:8080/",
          "height": 485
        },
        "id": "X9HDgZ8FWyvp",
        "outputId": "2da06a70-9bf2-488a-a646-e3edc12935bf"
      },
      "execution_count": null,
      "outputs": [
        {
          "output_type": "display_data",
          "data": {
            "text/plain": [
              "<Figure size 640x480 with 1 Axes>"
            ],
            "image/png": "[encoded data removed]"
          },
          "metadata": {}
        }
      ]
    },
    {
      "cell_type": "code",
      "source": [
        "df['label'].value_counts().plot(kind='pie',autopct=\"%.1f%%\")\n",
        "plt.title(\"Distributions of Class Labels\")\n",
        "plt.legend()\n",
        "plt.show()"
      ],
      "metadata": {
        "colab": {
          "base_uri": "https://localhost:8080/",
          "height": 428
        },
        "id": "e_v4yPMFW07h",
        "outputId": "08885b2e-8525-481e-a62a-dfa701d42679"
      },
      "execution_count": null,
      "outputs": [
        {
          "output_type": "display_data",
          "data": {
            "text/plain": [
              "<Figure size 640x480 with 1 Axes>"
            ],
            "image/png": "[encoded data removed]"
          },
          "metadata": {}
        }
      ]
    },
    {
      "cell_type": "code",
      "source": [
        "## Convert categorical target data into numeric form\n",
        "\n",
        "df['label'] = df['label'].replace({\"NF-OBJ\":0,\"NF-SUB\":1, \"NF-NEU\":2})\n",
        "\n",
        "df['label'].value_counts()"
      ],
      "metadata": {
        "colab": {
          "base_uri": "https://localhost:8080/"
        },
        "id": "59wU7g6RW3lJ",
        "outputId": "840fbcf7-fe39-421c-85fe-dcf0dc3561f1"
      },
      "execution_count": null,
      "outputs": [
        {
          "output_type": "execute_result",
          "data": {
            "text/plain": [
              "1    1422\n",
              "0    1416\n",
              "2     475\n",
              "Name: label, dtype: int64"
            ]
          },
          "metadata": {},
          "execution_count": 14
        }
      ]
    },
    {
      "cell_type": "code",
      "source": [
        "from nltk.tokenize import word_tokenize,sent_tokenize\n",
        "from string import punctuation\n",
        "from nltk.corpus import stopwords\n",
        "from nltk.stem import WordNetLemmatizer,LancasterStemmer\n",
        "##from contractions import fix\n",
        "##from unidecode import unidecode\n",
        "\n",
        "import nltk\n",
        "nltk.download('stopwords')\n",
        "\n",
        "stopword_list = stopwords.words(\"english\")\n",
        "\n",
        "def clean_text(data):\n",
        "    tokens = word_tokenize(data)\n",
        "    clean_data = [word.lower() for word in tokens if (word.lower() not in punctuation) and (word.lower() not in stopword_list) and ( len(word)>2) and (word.isalpha()) ]\n",
        "    return clean_data\n",
        "\n",
        "#tokens = data.text.apply(clean_text)"
      ],
      "metadata": {
        "colab": {
          "base_uri": "https://localhost:8080/"
        },
        "id": "KRQsweX-W6Bx",
        "outputId": "562b43b1-9f0d-4334-cc09-38e09e8bcbf8"
      },
      "execution_count": null,
      "outputs": [
        {
          "output_type": "stream",
          "name": "stderr",
          "text": [
            "[nltk_data] Downloading package stopwords to /root/nltk_data...\n",
            "[nltk_data]   Unzipping corpora/stopwords.zip.\n"
          ]
        }
      ]
    },
    {
      "cell_type": "markdown",
      "source": [
        "# **Split The Data For Train and Test**"
      ],
      "metadata": {
        "id": "WFLqp1sS7bBS"
      }
    },
    {
      "cell_type": "code",
      "source": [
        "x_train,x_test,y_train,y_test = train_test_split(df['text'], df['label'].values, test_size=0.2)\n",
        "print(x_train.shape)\n",
        "print(x_test.shape)\n",
        "print(y_train.shape)\n",
        "print(y_test.shape)"
      ],
      "metadata": {
        "colab": {
          "base_uri": "https://localhost:8080/"
        },
        "id": "9SNXSQcWW-VJ",
        "outputId": "da34638b-da82-4368-8de8-03e6c6058fa6"
      },
      "execution_count": null,
      "outputs": [
        {
          "output_type": "stream",
          "name": "stdout",
          "text": [
            "(2650,)\n",
            "(663,)\n",
            "(2650,)\n",
            "(663,)\n"
          ]
        }
      ]
    },
    {
      "cell_type": "code",
      "source": [
        "x_train"
      ],
      "metadata": {
        "colab": {
          "base_uri": "https://localhost:8080/"
        },
        "id": "z28WftIPXC2S",
        "outputId": "c467200f-bc20-482e-cc6a-b63988092d33"
      },
      "execution_count": null,
      "outputs": [
        {
          "output_type": "execute_result",
          "data": {
            "text/plain": [
              "1722      Imbubumbubu (Kweekgras) – kukhona indlela yo...\n",
              "1395     Izinkonzo Kubantu Izinkonzo ezinhlanganweni I...\n",
              "1192     Ulwazi ngoHulumeni www.gov.za Izinkonzo Kuban...\n",
              "3142     Zisebenze Uzimele! Iningi lethu linesifiso so...\n",
              "2349     I-Empowerment Project kaBONA yaphela ngesasas...\n",
              "                              ...                        \n",
              "2383     Ukwelashwa nokuzivikela ezifweni zomgudu womc...\n",
              "2070     B 4803_09 _09 IZITHOMBE NGU-Graeme Borchers; ...\n",
              "2656     BONA – August 2005 100 BONA – July 2007 Want ...\n",
              "517      Onga imali, onga ugesi UGESI ukalwa ngama-wat...\n",
              "32       Ulwazi ngoHulumeni www.gov.za Izinkonzo Kuban...\n",
              "Name: text, Length: 2650, dtype: object"
            ]
          },
          "metadata": {},
          "execution_count": 17
        }
      ]
    },
    {
      "cell_type": "code",
      "source": [
        "y_train"
      ],
      "metadata": {
        "colab": {
          "base_uri": "https://localhost:8080/"
        },
        "id": "34FMe_yCXFfh",
        "outputId": "6044e7d7-bc83-4159-b819-be60b0ddc35b"
      },
      "execution_count": null,
      "outputs": [
        {
          "output_type": "execute_result",
          "data": {
            "text/plain": [
              "array([2, 0, 0, ..., 1, 0, 0])"
            ]
          },
          "metadata": {},
          "execution_count": 18
        }
      ]
    },
    {
      "cell_type": "code",
      "source": [
        "import nltk\n",
        "nltk.download('punkt')\n",
        "\n",
        "final_train = x_train.apply(clean_text)\n",
        "final_test = x_test.apply(clean_text)"
      ],
      "metadata": {
        "colab": {
          "base_uri": "https://localhost:8080/"
        },
        "id": "N90bUnv5XLbi",
        "outputId": "39345ff6-a680-4a06-fdbc-eb3aa0b0dfe1"
      },
      "execution_count": null,
      "outputs": [
        {
          "output_type": "stream",
          "name": "stderr",
          "text": [
            "[nltk_data] Downloading package punkt to /root/nltk_data...\n",
            "[nltk_data]   Unzipping tokenizers/punkt.zip.\n"
          ]
        }
      ]
    },
    {
      "cell_type": "code",
      "source": [
        "len(final_train)"
      ],
      "metadata": {
        "colab": {
          "base_uri": "https://localhost:8080/"
        },
        "id": "4ssecCRFXQ-Z",
        "outputId": "b09525eb-281b-4af6-f203-e5479d88bee4"
      },
      "execution_count": null,
      "outputs": [
        {
          "output_type": "execute_result",
          "data": {
            "text/plain": [
              "2650"
            ]
          },
          "metadata": {},
          "execution_count": 20
        }
      ]
    },
    {
      "cell_type": "code",
      "source": [
        "final_train = final_train.to_list()\n",
        "final_test = final_test.to_list()"
      ],
      "metadata": {
        "id": "hdwCJ6iGXTmz"
      },
      "execution_count": null,
      "outputs": []
    },
    {
      "cell_type": "code",
      "source": [
        "len(final_test[0])"
      ],
      "metadata": {
        "colab": {
          "base_uri": "https://localhost:8080/"
        },
        "id": "rdPX0hn2XVrS",
        "outputId": "7d77ca1b-7dda-4bb6-de02-c29d8b2749dc"
      },
      "execution_count": null,
      "outputs": [
        {
          "output_type": "execute_result",
          "data": {
            "text/plain": [
              "240"
            ]
          },
          "metadata": {},
          "execution_count": 22
        }
      ]
    },
    {
      "cell_type": "code",
      "source": [
        "model.vector_size"
      ],
      "metadata": {
        "colab": {
          "base_uri": "https://localhost:8080/"
        },
        "id": "ytNwNnC1XX9q",
        "outputId": "e20d1533-7782-4e79-fb1e-399a469fa0a9"
      },
      "execution_count": null,
      "outputs": [
        {
          "output_type": "execute_result",
          "data": {
            "text/plain": [
              "100"
            ]
          },
          "metadata": {},
          "execution_count": 23
        }
      ]
    },
    {
      "cell_type": "markdown",
      "source": [
        "# Converts Text data into vector representation using Word2vec pre-trained model"
      ],
      "metadata": {
        "id": "VfN7WnWnXaXK"
      }
    },
    {
      "cell_type": "code",
      "source": [
        "###Converts Text data into vector representation using fasttext pre-trained model\n",
        "\n",
        "def vectorizer(final_text, model):\n",
        "    vectorized_text = []\n",
        "\n",
        "    for document in final_text:\n",
        "        document_vectors = []  # Store word vectors for this document\n",
        "\n",
        "        for word in document:\n",
        "            if word in model.wv:\n",
        "                word_vector = model.wv[word]\n",
        "                document_vectors.append(word_vector)\n",
        "\n",
        "        # Calculate the average vector for the document (if there are word vectors)\n",
        "        if document_vectors:\n",
        "            average_vector = np.mean(document_vectors, axis=0)\n",
        "            vectorized_text.append(average_vector)\n",
        "        else:\n",
        "           vectorized_text.append(np.zeros(model.vector_size))\n",
        "\n",
        "    return vectorized_text"
      ],
      "metadata": {
        "id": "u9xZcxHWXlXq"
      },
      "execution_count": null,
      "outputs": []
    },
    {
      "cell_type": "code",
      "source": [
        "## final_train and final_test in nested list\n",
        "\n",
        "vectorized_train = vectorizer(final_train ,model)\n",
        "vectorized_test = vectorizer(final_test ,model)"
      ],
      "metadata": {
        "id": "0mC75K8MX79z"
      },
      "execution_count": null,
      "outputs": []
    },
    {
      "cell_type": "code",
      "source": [
        "vectorized_x_train = np.array(vectorized_train)\n",
        "vectorized_x_test = np.array(vectorized_test)\n",
        "\n",
        "vectorized_x_train"
      ],
      "metadata": {
        "colab": {
          "base_uri": "https://localhost:8080/"
        },
        "id": "YcddDCtTYwKD",
        "outputId": "a2392eca-565a-4cf9-fcfe-057edd852315"
      },
      "execution_count": null,
      "outputs": [
        {
          "output_type": "execute_result",
          "data": {
            "text/plain": [
              "array([[-0.23253635,  0.07121911,  0.46539533, ..., -0.4141508 ,\n",
              "         0.02317261,  0.08003801],\n",
              "       [-0.09886325, -0.05591368,  0.33134472, ..., -0.47619933,\n",
              "         0.0255424 ,  0.10923046],\n",
              "       [-0.09006205, -0.0469889 ,  0.30230513, ..., -0.36289009,\n",
              "         0.03445132,  0.05038406],\n",
              "       ...,\n",
              "       [ 0.0601001 ,  0.05131171,  0.42166305, ..., -0.34823579,\n",
              "        -0.18195258, -0.02380024],\n",
              "       [-0.16117552, -0.05349259,  0.41507456, ..., -0.42995286,\n",
              "        -0.05173498, -0.02910876],\n",
              "       [-0.0973588 , -0.06280594,  0.46640024, ..., -0.38135293,\n",
              "         0.14363237,  0.00431512]])"
            ]
          },
          "metadata": {},
          "execution_count": 26
        }
      ]
    },
    {
      "cell_type": "code",
      "source": [
        "# Slice the feature arrays to match the number of samples in the labels\n",
        "vectorized_x_train = vectorized_x_train[:len(y_train)]\n",
        "vectorized_x_test = vectorized_x_test[:len(y_test)]"
      ],
      "metadata": {
        "id": "Pq9wSJM0Zn6N"
      },
      "execution_count": null,
      "outputs": []
    },
    {
      "cell_type": "code",
      "source": [
        "print(vectorized_x_train.shape)\n",
        "print(vectorized_x_test.shape)\n",
        "print(y_train.shape)\n",
        "print(y_test.shape)"
      ],
      "metadata": {
        "colab": {
          "base_uri": "https://localhost:8080/"
        },
        "id": "sy3LykHZYy8M",
        "outputId": "cc33f448-bd91-47fc-b90e-a9d708b896ca"
      },
      "execution_count": null,
      "outputs": [
        {
          "output_type": "stream",
          "name": "stdout",
          "text": [
            "(2650, 100)\n",
            "(663, 100)\n",
            "(2650,)\n",
            "(663,)\n"
          ]
        }
      ]
    },
    {
      "cell_type": "markdown",
      "source": [
        "**Using** **RandomForest**"
      ],
      "metadata": {
        "id": "sieqWe557l2f"
      }
    },
    {
      "cell_type": "code",
      "source": [
        "rf=RandomForestClassifier()\n",
        "rf.fit(vectorized_x_train,y_train)\n",
        "\n",
        "y_pred=rf.predict(vectorized_x_test)\n",
        "#y_pred\n",
        "print(\"Model evaluation on Test data\")\n",
        "print(\"Confusion Matrix:\\n\",confusion_matrix(y_test,y_pred))\n",
        "print()\n",
        "print(\"Classification Report:\\n\",classification_report(y_test,y_pred))\n",
        "print()\n",
        "acc_test=accuracy_score(y_test,y_pred)*100\n",
        "print('Accuracy for RF Model on Test Data is:',acc_test)\n",
        "print(\"********************************************************\")\n",
        "\n",
        "y_pred_train=rf.predict(vectorized_x_train)\n",
        "#y_pred_train\n",
        "print(\"Model evaluation on Train data\")\n",
        "print(\"Confusion Matrix:\\n\",confusion_matrix(y_train,y_pred_train))\n",
        "print()\n",
        "print(\"Classification Report:\\n\",classification_report(y_train,y_pred_train))\n",
        "print()\n",
        "acc_train=accuracy_score(y_train,y_pred_train)*100\n",
        "print('Accuracy for RF Model on Train Data is:',acc_train)"
      ],
      "metadata": {
        "colab": {
          "base_uri": "https://localhost:8080/"
        },
        "id": "xWNukI1qY2ms",
        "outputId": "70291a9a-b350-4508-c6a2-1a37b91c6629"
      },
      "execution_count": null,
      "outputs": [
        {
          "output_type": "stream",
          "name": "stdout",
          "text": [
            "Model evaluation on Test data\n",
            "Confusion Matrix:\n",
            " [[184  81   6]\n",
            " [ 34 261   4]\n",
            " [  8   0  85]]\n",
            "\n",
            "Classification Report:\n",
            "               precision    recall  f1-score   support\n",
            "\n",
            "           0       0.81      0.68      0.74       271\n",
            "           1       0.76      0.87      0.81       299\n",
            "           2       0.89      0.91      0.90        93\n",
            "\n",
            "    accuracy                           0.80       663\n",
            "   macro avg       0.82      0.82      0.82       663\n",
            "weighted avg       0.80      0.80      0.80       663\n",
            "\n",
            "\n",
            "Accuracy for RF Model on Test Data is: 79.93966817496229\n",
            "********************************************************\n",
            "Model evaluation on Train data\n",
            "Confusion Matrix:\n",
            " [[1125   20    0]\n",
            " [  12 1111    0]\n",
            " [   0    5  377]]\n",
            "\n",
            "Classification Report:\n",
            "               precision    recall  f1-score   support\n",
            "\n",
            "           0       0.99      0.98      0.99      1145\n",
            "           1       0.98      0.99      0.98      1123\n",
            "           2       1.00      0.99      0.99       382\n",
            "\n",
            "    accuracy                           0.99      2650\n",
            "   macro avg       0.99      0.99      0.99      2650\n",
            "weighted avg       0.99      0.99      0.99      2650\n",
            "\n",
            "\n",
            "Accuracy for RF Model on Train Data is: 98.60377358490567\n"
          ]
        }
      ]
    },
    {
      "cell_type": "markdown",
      "source": [
        "**Using** **KNN**"
      ],
      "metadata": {
        "id": "7H9W0_ks3OzW"
      }
    },
    {
      "cell_type": "code",
      "source": [
        "knn=KNeighborsClassifier()\n",
        "knn.fit(vectorized_x_train,y_train)\n",
        "\n",
        "y_pred=knn.predict(vectorized_x_test)\n",
        "#y_pred\n",
        "print(\"Model evaluation on Test data\")\n",
        "print(\"Confusion Matrix:\\n\",confusion_matrix(y_test,y_pred))\n",
        "print()\n",
        "print(\"Classification Report:\\n\",classification_report(y_test,y_pred))\n",
        "print()\n",
        "acc_test=accuracy_score(y_test,y_pred)*100\n",
        "print('Accuracy for KNN Model on Test Data is:',acc_test)\n",
        "print(\"********************************************************\")\n",
        "\n",
        "y_pred_train=knn.predict(vectorized_x_train)\n",
        "#y_pred_train\n",
        "print(\"Model evaluation on Train data\")\n",
        "print(\"Confusion Matrix:\\n\",confusion_matrix(y_train,y_pred_train))\n",
        "print()\n",
        "print(\"Classification Report:\\n\",classification_report(y_train,y_pred_train))\n",
        "print()\n",
        "acc_train=accuracy_score(y_train,y_pred_train)*100\n",
        "print('Accuracy for KNN Model on Train Data is:',acc_train)"
      ],
      "metadata": {
        "colab": {
          "base_uri": "https://localhost:8080/"
        },
        "id": "QF0qbg9zcQHo",
        "outputId": "b823c164-e5bb-48e1-9a2e-0eb15be18339"
      },
      "execution_count": null,
      "outputs": [
        {
          "output_type": "stream",
          "name": "stdout",
          "text": [
            "Model evaluation on Test data\n",
            "Confusion Matrix:\n",
            " [[184  81   6]\n",
            " [ 62 234   3]\n",
            " [ 21   3  69]]\n",
            "\n",
            "Classification Report:\n",
            "               precision    recall  f1-score   support\n",
            "\n",
            "           0       0.69      0.68      0.68       271\n",
            "           1       0.74      0.78      0.76       299\n",
            "           2       0.88      0.74      0.81        93\n",
            "\n",
            "    accuracy                           0.73       663\n",
            "   macro avg       0.77      0.73      0.75       663\n",
            "weighted avg       0.74      0.73      0.73       663\n",
            "\n",
            "\n",
            "Accuracy for KNN Model on Test Data is: 73.45399698340876\n",
            "********************************************************\n",
            "Model evaluation on Train data\n",
            "Confusion Matrix:\n",
            " [[895 243   7]\n",
            " [126 990   7]\n",
            " [ 70  23 289]]\n",
            "\n",
            "Classification Report:\n",
            "               precision    recall  f1-score   support\n",
            "\n",
            "           0       0.82      0.78      0.80      1145\n",
            "           1       0.79      0.88      0.83      1123\n",
            "           2       0.95      0.76      0.84       382\n",
            "\n",
            "    accuracy                           0.82      2650\n",
            "   macro avg       0.85      0.81      0.83      2650\n",
            "weighted avg       0.83      0.82      0.82      2650\n",
            "\n",
            "\n",
            "Accuracy for KNN Model on Train Data is: 82.0377358490566\n"
          ]
        }
      ]
    },
    {
      "cell_type": "markdown",
      "source": [
        "**Using** **SVM**"
      ],
      "metadata": {
        "id": "wEzXLSI573jR"
      }
    },
    {
      "cell_type": "code",
      "source": [
        "svc=SVC()\n",
        "svc.fit(vectorized_x_train,y_train)\n",
        "\n",
        "y_pred=svc.predict(vectorized_x_test)\n",
        "#y_pred\n",
        "print(\"Model evaluation on Test data\")\n",
        "print(\"Confusion Matrix:\\n\",confusion_matrix(y_test,y_pred))\n",
        "print()\n",
        "print(\"Classification Report:\\n\",classification_report(y_test,y_pred))\n",
        "print()\n",
        "acc_test=accuracy_score(y_test,y_pred)*100\n",
        "print('Accuracy for SVC Model on Test Data is:',acc_test)\n",
        "print(\"********************************************************\")\n",
        "\n",
        "y_pred_train=svc.predict(vectorized_x_train)\n",
        "#y_pred_train\n",
        "print(\"Model evaluation on Train data\")\n",
        "print(\"Confusion Matrix:\\n\",confusion_matrix(y_train,y_pred_train))\n",
        "print()\n",
        "print(\"Classification Report:\\n\",classification_report(y_train,y_pred_train))\n",
        "print()\n",
        "acc_train=accuracy_score(y_train,y_pred_train)*100\n",
        "print('Accuracy for SVC Model on Train Data is:',acc_train)"
      ],
      "metadata": {
        "colab": {
          "base_uri": "https://localhost:8080/"
        },
        "id": "ku__S1NHcYdw",
        "outputId": "71361ec2-b5b2-4367-fa84-181936ff7e30"
      },
      "execution_count": null,
      "outputs": [
        {
          "output_type": "stream",
          "name": "stdout",
          "text": [
            "Model evaluation on Test data\n",
            "Confusion Matrix:\n",
            " [[156 112   3]\n",
            " [ 20 275   4]\n",
            " [ 11   5  77]]\n",
            "\n",
            "Classification Report:\n",
            "               precision    recall  f1-score   support\n",
            "\n",
            "           0       0.83      0.58      0.68       271\n",
            "           1       0.70      0.92      0.80       299\n",
            "           2       0.92      0.83      0.87        93\n",
            "\n",
            "    accuracy                           0.77       663\n",
            "   macro avg       0.82      0.77      0.78       663\n",
            "weighted avg       0.79      0.77      0.76       663\n",
            "\n",
            "\n",
            "Accuracy for SVC Model on Test Data is: 76.6214177978884\n",
            "********************************************************\n",
            "Model evaluation on Train data\n",
            "Confusion Matrix:\n",
            " [[ 621  509   15]\n",
            " [  73 1037   13]\n",
            " [  41   23  318]]\n",
            "\n",
            "Classification Report:\n",
            "               precision    recall  f1-score   support\n",
            "\n",
            "           0       0.84      0.54      0.66      1145\n",
            "           1       0.66      0.92      0.77      1123\n",
            "           2       0.92      0.83      0.87       382\n",
            "\n",
            "    accuracy                           0.75      2650\n",
            "   macro avg       0.81      0.77      0.77      2650\n",
            "weighted avg       0.78      0.75      0.74      2650\n",
            "\n",
            "\n",
            "Accuracy for SVC Model on Train Data is: 74.56603773584905\n"
          ]
        }
      ]
    },
    {
      "cell_type": "code",
      "source": [
        "from sklearn.linear_model import LogisticRegression\n",
        "\n",
        "logistic_regression = LogisticRegression()\n",
        "logistic_regression.fit(vectorized_x_train, y_train)\n",
        "\n",
        "y_pred = logistic_regression.predict(vectorized_x_test)\n",
        "\n",
        "# Evaluate and print results\n",
        "\n",
        "#y_pred\n",
        "print(\"Model evaluation on Test data\")\n",
        "print(\"Confusion Matrix:\\n\",confusion_matrix(y_test,y_pred))\n",
        "print()\n",
        "print(\"Classification Report:\\n\",classification_report(y_test,y_pred))\n",
        "print()\n",
        "acc_test=accuracy_score(y_test,y_pred)*100\n",
        "print('Accuracy for Logistic Regression on Test Data is:',acc_test)\n",
        "print(\"********************************************************\")\n",
        "\n",
        "y_pred_train = logistic_regression.predict(vectorized_x_train)\n",
        "\n",
        "#y_pred_train\n",
        "print(\"Model evaluation on Train data\")\n",
        "print(\"Confusion Matrix:\\n\",confusion_matrix(y_train,y_pred_train))\n",
        "print()\n",
        "print(\"Classification Report:\\n\",classification_report(y_train,y_pred_train))\n",
        "print()\n",
        "acc_train=accuracy_score(y_train,y_pred_train)*100\n",
        "print('Accuracy for Logistic Regression on Train Data is:',acc_train)\n",
        "\n"
      ],
      "metadata": {
        "colab": {
          "base_uri": "https://localhost:8080/"
        },
        "id": "Ti7w0JJUcc5b",
        "outputId": "a43becb0-94e8-4a2d-c90d-7b4860836605"
      },
      "execution_count": null,
      "outputs": [
        {
          "output_type": "stream",
          "name": "stdout",
          "text": [
            "Model evaluation on Test data\n",
            "Confusion Matrix:\n",
            " [[180  88   3]\n",
            " [ 47 247   5]\n",
            " [ 12   1  80]]\n",
            "\n",
            "Classification Report:\n",
            "               precision    recall  f1-score   support\n",
            "\n",
            "           0       0.75      0.66      0.71       271\n",
            "           1       0.74      0.83      0.78       299\n",
            "           2       0.91      0.86      0.88        93\n",
            "\n",
            "    accuracy                           0.76       663\n",
            "   macro avg       0.80      0.78      0.79       663\n",
            "weighted avg       0.77      0.76      0.76       663\n",
            "\n",
            "\n",
            "Accuracy for Logistic Regression on Test Data is: 76.47058823529412\n",
            "********************************************************\n",
            "Model evaluation on Train data\n",
            "Confusion Matrix:\n",
            " [[695 423  27]\n",
            " [151 958  14]\n",
            " [ 48  19 315]]\n",
            "\n",
            "Classification Report:\n",
            "               precision    recall  f1-score   support\n",
            "\n",
            "           0       0.78      0.61      0.68      1145\n",
            "           1       0.68      0.85      0.76      1123\n",
            "           2       0.88      0.82      0.85       382\n",
            "\n",
            "    accuracy                           0.74      2650\n",
            "   macro avg       0.78      0.76      0.76      2650\n",
            "weighted avg       0.75      0.74      0.74      2650\n",
            "\n",
            "\n",
            "Accuracy for Logistic Regression on Train Data is: 74.26415094339622\n"
          ]
        }
      ]
    },
    {
      "cell_type": "markdown",
      "source": [
        "## **Fine-tuned models**"
      ],
      "metadata": {
        "id": "56kRbteB3QyO"
      }
    },
    {
      "cell_type": "markdown",
      "source": [
        "Fine-tuned Random Forest Classfiers"
      ],
      "metadata": {
        "id": "Obu7tUHB3cFn"
      }
    },
    {
      "cell_type": "code",
      "source": [
        "from sklearn.ensemble import RandomForestClassifier\n",
        "from sklearn.model_selection import GridSearchCV\n",
        "\n",
        "# Define the parameter grid for Random Forest\n",
        "param_grid = {\n",
        "    'n_estimators': [100, 200, 300],\n",
        "    'max_depth': [None, 10, 20, 30],\n",
        "    'min_samples_split': [2, 5, 10],\n",
        "    'min_samples_leaf': [1, 2, 4]\n",
        "}\n",
        "\n",
        "rf = RandomForestClassifier(random_state=42)\n",
        "\n",
        "# Create the GridSearchCV object\n",
        "rf_grid = GridSearchCV(rf, param_grid, cv=5, n_jobs=-1, verbose=2)\n",
        "\n",
        "# Fit the GridSearchCV to the data\n",
        "rf_grid.fit(vectorized_x_train, y_train)\n",
        "\n",
        "# Get the best parameters and the best estimator\n",
        "best_params = rf_grid.best_params_\n",
        "best_estimator = rf_grid.best_estimator_\n",
        "\n",
        "# Use the best estimator for predictions\n",
        "y_pred = best_estimator.predict(vectorized_x_test)\n",
        "\n",
        "\n",
        "\n",
        "#y_pred\n",
        "print(\"Model evaluation on Test data\")\n",
        "print(\"Confusion Matrix:\\n\",confusion_matrix(y_test,y_pred))\n",
        "print()\n",
        "print(\"Classification Report:\\n\",classification_report(y_test,y_pred))\n",
        "print()\n",
        "acc_test=accuracy_score(y_test,y_pred)*100\n",
        "print('Accuracy for Fine-Tuned Random Forest on Test Data is:',acc_test)\n",
        "print(\"********************************************************\")\n",
        "\n",
        "y_pred_train = best_estimator.predict(vectorized_x_train)\n",
        "\n",
        "#y_pred_train\n",
        "print(\"Model evaluation on Train data\")\n",
        "print(\"Confusion Matrix:\\n\",confusion_matrix(y_train,y_pred_train))\n",
        "print()\n",
        "print(\"Classification Report:\\n\",classification_report(y_train,y_pred_train))\n",
        "print()\n",
        "acc_train=accuracy_score(y_train,y_pred_train)*100\n",
        "print('Accuracy for Fine-Tuned Random Forest on Train Data is:',acc_train)\n",
        "\n",
        "\n"
      ],
      "metadata": {
        "colab": {
          "base_uri": "https://localhost:8080/"
        },
        "id": "-D_Gp0dp3lNJ",
        "outputId": "60eab87f-8b36-4682-9324-bc20f87b5540"
      },
      "execution_count": null,
      "outputs": [
        {
          "output_type": "stream",
          "name": "stdout",
          "text": [
            "Fitting 5 folds for each of 108 candidates, totalling 540 fits\n",
            "Model evaluation on Test data\n",
            "Confusion Matrix:\n",
            " [[182  83   6]\n",
            " [ 33 260   6]\n",
            " [  7   2  84]]\n",
            "\n",
            "Classification Report:\n",
            "               precision    recall  f1-score   support\n",
            "\n",
            "           0       0.82      0.67      0.74       271\n",
            "           1       0.75      0.87      0.81       299\n",
            "           2       0.88      0.90      0.89        93\n",
            "\n",
            "    accuracy                           0.79       663\n",
            "   macro avg       0.82      0.81      0.81       663\n",
            "weighted avg       0.80      0.79      0.79       663\n",
            "\n",
            "\n",
            "Accuracy for Fine-Tuned Random Forest on Test Data is: 79.33634992458522\n",
            "********************************************************\n",
            "Model evaluation on Train data\n",
            "Confusion Matrix:\n",
            " [[1123   22    0]\n",
            " [  14 1105    4]\n",
            " [   1    6  375]]\n",
            "\n",
            "Classification Report:\n",
            "               precision    recall  f1-score   support\n",
            "\n",
            "           0       0.99      0.98      0.98      1145\n",
            "           1       0.98      0.98      0.98      1123\n",
            "           2       0.99      0.98      0.99       382\n",
            "\n",
            "    accuracy                           0.98      2650\n",
            "   macro avg       0.98      0.98      0.98      2650\n",
            "weighted avg       0.98      0.98      0.98      2650\n",
            "\n",
            "\n",
            "Accuracy for Fine-Tuned Random Forest on Train Data is: 98.22641509433963\n"
          ]
        }
      ]
    },
    {
      "cell_type": "markdown",
      "source": [
        "## **Fine-Tine KNN**"
      ],
      "metadata": {
        "id": "dWbI-5ZV4BIP"
      }
    },
    {
      "cell_type": "code",
      "source": [
        "from sklearn.neighbors import KNeighborsClassifier\n",
        "from sklearn.model_selection import GridSearchCV\n",
        "\n",
        "# Define the parameter grid for KNN\n",
        "param_grid = {\n",
        "    'n_neighbors': [3, 5, 7, 9],\n",
        "    'weights': ['uniform', 'distance'],\n",
        "    'p': [1, 2]\n",
        "}\n",
        "\n",
        "knn = KNeighborsClassifier()\n",
        "\n",
        "# Create the GridSearchCV object\n",
        "knn_grid = GridSearchCV(knn, param_grid, cv=5, n_jobs=-1, verbose=2)\n",
        "\n",
        "# Fit the GridSearchCV to the data\n",
        "knn_grid.fit(vectorized_x_train, y_train)\n",
        "\n",
        "# Get the best parameters and the best estimator\n",
        "best_params = knn_grid.best_params_\n",
        "best_estimator = knn_grid.best_estimator_\n",
        "\n",
        "# Use the best estimator for predictions\n",
        "y_pred = best_estimator.predict(vectorized_x_test)\n",
        "\n",
        "\n",
        "#y_pred\n",
        "print(\"Model evaluation on Test data\")\n",
        "print(\"Confusion Matrix:\\n\",confusion_matrix(y_test,y_pred))\n",
        "print()\n",
        "print(\"Classification Report:\\n\",classification_report(y_test,y_pred))\n",
        "print()\n",
        "acc_test=accuracy_score(y_test,y_pred)*100\n",
        "print('Accuracy for Fine-Tuned KNeighborsClassifier on Test Data is:',acc_test)\n",
        "print(\"********************************************************\")\n",
        "\n",
        "y_pred_train = best_estimator.predict(vectorized_x_train)\n",
        "#y_pred_train\n",
        "print(\"Model evaluation on Train data\")\n",
        "print(\"Confusion Matrix:\\n\",confusion_matrix(y_train,y_pred_train))\n",
        "print()\n",
        "print(\"Classification Report:\\n\",classification_report(y_train,y_pred_train))\n",
        "print()\n",
        "acc_train=accuracy_score(y_train,y_pred_train)*100\n",
        "print('Accuracy for Fine-Tuned KNeighborsClassifier on Train Data is:',acc_train)"
      ],
      "metadata": {
        "colab": {
          "base_uri": "https://localhost:8080/"
        },
        "id": "VXHKGvz24Hpt",
        "outputId": "00ed19dc-137b-46c6-8cda-8d48e288f52c"
      },
      "execution_count": null,
      "outputs": [
        {
          "output_type": "stream",
          "name": "stdout",
          "text": [
            "Fitting 5 folds for each of 16 candidates, totalling 80 fits\n",
            "Model evaluation on Test data\n",
            "Confusion Matrix:\n",
            " [[191  77   3]\n",
            " [ 58 239   2]\n",
            " [ 22   2  69]]\n",
            "\n",
            "Classification Report:\n",
            "               precision    recall  f1-score   support\n",
            "\n",
            "           0       0.70      0.70      0.70       271\n",
            "           1       0.75      0.80      0.77       299\n",
            "           2       0.93      0.74      0.83        93\n",
            "\n",
            "    accuracy                           0.75       663\n",
            "   macro avg       0.80      0.75      0.77       663\n",
            "weighted avg       0.76      0.75      0.75       663\n",
            "\n",
            "\n",
            "Accuracy for Fine-Tuned KNeighborsClassifier on Test Data is: 75.26395173453997\n",
            "********************************************************\n",
            "Model evaluation on Train data\n",
            "Confusion Matrix:\n",
            " [[1145    0    0]\n",
            " [  32 1091    0]\n",
            " [   0    5  377]]\n",
            "\n",
            "Classification Report:\n",
            "               precision    recall  f1-score   support\n",
            "\n",
            "           0       0.97      1.00      0.99      1145\n",
            "           1       1.00      0.97      0.98      1123\n",
            "           2       1.00      0.99      0.99       382\n",
            "\n",
            "    accuracy                           0.99      2650\n",
            "   macro avg       0.99      0.99      0.99      2650\n",
            "weighted avg       0.99      0.99      0.99      2650\n",
            "\n",
            "\n",
            "Accuracy for Fine-Tuned KNeighborsClassifier on Train Data is: 98.60377358490567\n"
          ]
        }
      ]
    },
    {
      "cell_type": "markdown",
      "source": [
        "## **Fine-tuned Logistic Regression**"
      ],
      "metadata": {
        "id": "Qz1QEfsK4WGm"
      }
    },
    {
      "cell_type": "code",
      "source": [
        "from sklearn.linear_model import LogisticRegression\n",
        "from sklearn.model_selection import GridSearchCV\n",
        "\n",
        "lr = LogisticRegression()\n",
        "\n",
        "param_grid = {\n",
        "    'C': [0.1, 1, 10],\n",
        "    'penalty': ['l1', 'l2'],\n",
        "    'solver': ['liblinear', 'saga']\n",
        "}\n",
        "\n",
        "lr_grid = GridSearchCV(lr, param_grid, cv=5, n_jobs=-1, verbose=2)\n",
        "\n",
        "lr_grid.fit(vectorized_x_train, y_train)\n",
        "\n",
        "best_params_lr = lr_grid.best_params_\n",
        "best_estimator_lr = lr_grid.best_estimator_\n",
        "\n",
        "y_pred_lr = best_estimator_lr.predict(vectorized_x_test)\n",
        "\n",
        "\n",
        "#y_pred\n",
        "print(\"Model evaluation on Test data\")\n",
        "print(\"Confusion Matrix:\\n\",confusion_matrix(y_test,y_pred))\n",
        "print()\n",
        "print(\"Classification Report:\\n\",classification_report(y_test,y_pred))\n",
        "print()\n",
        "acc_test=accuracy_score(y_test,y_pred)*100\n",
        "print('Accuracy for Fine-Tuned Logistic Regression on Test Data is:',acc_test)\n",
        "print(\"********************************************************\")\n",
        "\n",
        "y_pred_train = best_estimator_lr.predict(vectorized_x_train)\n",
        "#y_pred_train\n",
        "print(\"Model evaluation on Train data\")\n",
        "print(\"Confusion Matrix:\\n\",confusion_matrix(y_train,y_pred_train))\n",
        "print()\n",
        "print(\"Classification Report:\\n\",classification_report(y_train,y_pred_train))\n",
        "print()\n",
        "acc_train=accuracy_score(y_train,y_pred_train)*100\n",
        "print('Accuracy for Fine-Tuned Logistic Regression on Train Data is:',acc_train)"
      ],
      "metadata": {
        "colab": {
          "base_uri": "https://localhost:8080/"
        },
        "id": "ic_g4Tx14dcJ",
        "outputId": "2cb1bc54-cf92-448a-db99-e0c9fe633e95"
      },
      "execution_count": null,
      "outputs": [
        {
          "output_type": "stream",
          "name": "stdout",
          "text": [
            "Fitting 5 folds for each of 12 candidates, totalling 60 fits\n",
            "Model evaluation on Test data\n",
            "Confusion Matrix:\n",
            " [[191  77   3]\n",
            " [ 58 239   2]\n",
            " [ 22   2  69]]\n",
            "\n",
            "Classification Report:\n",
            "               precision    recall  f1-score   support\n",
            "\n",
            "           0       0.70      0.70      0.70       271\n",
            "           1       0.75      0.80      0.77       299\n",
            "           2       0.93      0.74      0.83        93\n",
            "\n",
            "    accuracy                           0.75       663\n",
            "   macro avg       0.80      0.75      0.77       663\n",
            "weighted avg       0.76      0.75      0.75       663\n",
            "\n",
            "\n",
            "Accuracy for Fine-Tuned Logistic Regression on Test Data is: 75.26395173453997\n",
            "********************************************************\n",
            "Model evaluation on Train data\n",
            "Confusion Matrix:\n",
            " [[739 390  16]\n",
            " [149 959  15]\n",
            " [ 19  15 348]]\n",
            "\n",
            "Classification Report:\n",
            "               precision    recall  f1-score   support\n",
            "\n",
            "           0       0.81      0.65      0.72      1145\n",
            "           1       0.70      0.85      0.77      1123\n",
            "           2       0.92      0.91      0.91       382\n",
            "\n",
            "    accuracy                           0.77      2650\n",
            "   macro avg       0.81      0.80      0.80      2650\n",
            "weighted avg       0.78      0.77      0.77      2650\n",
            "\n",
            "\n",
            "Accuracy for Fine-Tuned Logistic Regression on Train Data is: 77.20754716981132\n"
          ]
        }
      ]
    }
  ]
}